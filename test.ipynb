{
 "cells": [
  {
   "cell_type": "code",
   "execution_count": 1,
   "metadata": {},
   "outputs": [],
   "source": [
    "import pandas as pd \n",
    "import numpy as np \n",
    "from _base import DecisionTreeClassifier\n",
    "\n",
    "\n",
    "def accuracy_score(predictions, targets):\n",
    "   \n",
    "    correct = 0\n",
    "    total = len(targets)\n",
    "\n",
    "    for pred, target in zip(predictions, targets):\n",
    "        if pred == target:\n",
    "            correct += 1\n",
    "\n",
    "    accuracy = (correct / total) * 100\n",
    "    return accuracy\n",
    "\n",
    "\n"
   ]
  },
  {
   "cell_type": "markdown",
   "metadata": {},
   "source": [
    "Data loading"
   ]
  },
  {
   "cell_type": "code",
   "execution_count": 2,
   "metadata": {},
   "outputs": [
    {
     "data": {
      "text/html": [
       "<div>\n",
       "<style scoped>\n",
       "    .dataframe tbody tr th:only-of-type {\n",
       "        vertical-align: middle;\n",
       "    }\n",
       "\n",
       "    .dataframe tbody tr th {\n",
       "        vertical-align: top;\n",
       "    }\n",
       "\n",
       "    .dataframe thead th {\n",
       "        text-align: right;\n",
       "    }\n",
       "</style>\n",
       "<table border=\"1\" class=\"dataframe\">\n",
       "  <thead>\n",
       "    <tr style=\"text-align: right;\">\n",
       "      <th></th>\n",
       "      <th>V1</th>\n",
       "      <th>V2</th>\n",
       "      <th>V3</th>\n",
       "      <th>V4</th>\n",
       "      <th>V5</th>\n",
       "      <th>y</th>\n",
       "    </tr>\n",
       "  </thead>\n",
       "  <tbody>\n",
       "    <tr>\n",
       "      <th>0</th>\n",
       "      <td>-0.6</td>\n",
       "      <td>-0.6</td>\n",
       "      <td>-1.0</td>\n",
       "      <td>-0.8</td>\n",
       "      <td>-0.5</td>\n",
       "      <td>0</td>\n",
       "    </tr>\n",
       "    <tr>\n",
       "      <th>1</th>\n",
       "      <td>-0.2</td>\n",
       "      <td>-1.0</td>\n",
       "      <td>-1.0</td>\n",
       "      <td>-0.3</td>\n",
       "      <td>0.2</td>\n",
       "      <td>0</td>\n",
       "    </tr>\n",
       "    <tr>\n",
       "      <th>2</th>\n",
       "      <td>1.6</td>\n",
       "      <td>1.0</td>\n",
       "      <td>-0.0</td>\n",
       "      <td>-0.9</td>\n",
       "      <td>-0.5</td>\n",
       "      <td>1</td>\n",
       "    </tr>\n",
       "    <tr>\n",
       "      <th>3</th>\n",
       "      <td>0.1</td>\n",
       "      <td>0.8</td>\n",
       "      <td>-0.1</td>\n",
       "      <td>0.6</td>\n",
       "      <td>1.2</td>\n",
       "      <td>0</td>\n",
       "    </tr>\n",
       "    <tr>\n",
       "      <th>4</th>\n",
       "      <td>0.1</td>\n",
       "      <td>-1.5</td>\n",
       "      <td>-2.5</td>\n",
       "      <td>1.1</td>\n",
       "      <td>0.2</td>\n",
       "      <td>0</td>\n",
       "    </tr>\n",
       "  </tbody>\n",
       "</table>\n",
       "</div>"
      ],
      "text/plain": [
       "    V1   V2   V3   V4   V5  y\n",
       "0 -0.6 -0.6 -1.0 -0.8 -0.5  0\n",
       "1 -0.2 -1.0 -1.0 -0.3  0.2  0\n",
       "2  1.6  1.0 -0.0 -0.9 -0.5  1\n",
       "3  0.1  0.8 -0.1  0.6  1.2  0\n",
       "4  0.1 -1.5 -2.5  1.1  0.2  0"
      ]
     },
     "execution_count": 2,
     "metadata": {},
     "output_type": "execute_result"
    }
   ],
   "source": [
    "table=pd.read_excel(\"C:/Users/arthu/Downloads/example_LR.xlsx\" )\n",
    "table=table.round(1)\n",
    "table\n",
    "x=table.drop('y',axis=1)\n",
    "y=table[\"y\"]\n",
    "table.head()"
   ]
  },
  {
   "cell_type": "code",
   "execution_count": 3,
   "metadata": {},
   "outputs": [],
   "source": [
    "x=np.array(table.drop(\"y\",axis=1))\n",
    "y=np.array(table[\"y\"])"
   ]
  },
  {
   "cell_type": "markdown",
   "metadata": {},
   "source": [
    "## **Gini criterion**"
   ]
  },
  {
   "cell_type": "code",
   "execution_count": 4,
   "metadata": {},
   "outputs": [],
   "source": [
    "nb_global=10\n",
    "model=DecisionTreeClassifier(nb_paths=nb_global,print_mode=False,method=\"gini\")\n",
    "\n",
    "nodes=model.fit(x,y)\n",
    "\n"
   ]
  },
  {
   "cell_type": "markdown",
   "metadata": {},
   "source": [
    "We can visualise the tree"
   ]
  },
  {
   "cell_type": "code",
   "execution_count": 5,
   "metadata": {},
   "outputs": [
    {
     "name": "stdout",
     "output_type": "stream",
     "text": [
      "0----1----3                                        \n",
      "|    \\----4----9                                   \n",
      "|         \\----10----21----43----87                    \n",
      "|               |     |     \\----88----177----355          \n",
      "|               |     |           |      \\----356----713----1427\n",
      "|               |     |           |             |      \\----1428\n",
      "|               |     |           |             \\----714     \n",
      "|               |     |           \\----178----357          \n",
      "|               |     |                  \\----358----717     \n",
      "|               |     |                         \\----718----1437\n",
      "|               |     |                                \\----1438\n",
      "|               |     \\----44                                \n",
      "|               \\----22----45----91----183                   \n",
      "|                     |     |     \\----184----369----739----1479\n",
      "|                     |     |            |      |      \\----1480\n",
      "|                     |     |            |      \\----740     \n",
      "|                     |     |            \\----370          \n",
      "|                     |     \\----92----185               \n",
      "|                     |           \\----186----373          \n",
      "|                     |                  \\----374----749----1499\n",
      "|                     |                         |      \\----1500\n",
      "|                     |                         \\----750     \n",
      "|                     \\----46                              \n",
      "\\----2----5----11                                         \n",
      "     |    \\----12----25----51----103                        \n",
      "     |          |     |     \\----104----209----419----839     \n",
      "     |          |     |            |      |      \\----840----1681\n",
      "     |          |     |            |      |             \\----1682\n",
      "     |          |     |            |      \\----420            \n",
      "     |          |     |            \\----210----421----843----1687\n",
      "     |          |     |                   |      |      \\----1688\n",
      "     |          |     |                   |      \\----844     \n",
      "     |          |     |                   \\----422          \n",
      "     |          |     \\----52----105                      \n",
      "     |          |           \\----106----213----427----855----1711\n",
      "     |          |                  |      |      |      \\----1712\n",
      "     |          |                  |      |      \\----856     \n",
      "     |          |                  |      \\----428          \n",
      "     |          |                  \\----214----429          \n",
      "     |          |                         \\----430----861     \n",
      "     |          |                                \\----862     \n",
      "     |          \\----26----53                               \n",
      "     |                \\----54----109----219                 \n",
      "     |                      |      \\----220----441----883----1767\n",
      "     |                      |             |      |      \\----1768\n",
      "     |                      |             |      \\----884     \n",
      "     |                      |             \\----442          \n",
      "     |                      \\----110                      \n",
      "     \\----6                                             \n"
     ]
    }
   ],
   "source": [
    "model.visualise(model.viz)"
   ]
  },
  {
   "cell_type": "markdown",
   "metadata": {},
   "source": [
    "Make prediction and evaluate accuracy"
   ]
  },
  {
   "cell_type": "code",
   "execution_count": 6,
   "metadata": {},
   "outputs": [
    {
     "data": {
      "text/plain": [
       "88.8"
      ]
     },
     "execution_count": 6,
     "metadata": {},
     "output_type": "execute_result"
    }
   ],
   "source": [
    "predictions=model.predict(x)\n",
    "accuracy_score(predictions,y)"
   ]
  },
  {
   "cell_type": "markdown",
   "metadata": {},
   "source": [
    "## Entropy criterion"
   ]
  },
  {
   "cell_type": "code",
   "execution_count": 7,
   "metadata": {},
   "outputs": [],
   "source": [
    "nb_global=10\n",
    "model=DecisionTreeClassifier(nb_paths=nb_global,print_mode=False,method=\"entropy\")\n",
    "\n",
    "nodes=model.fit(x,y)\n"
   ]
  },
  {
   "cell_type": "code",
   "execution_count": 8,
   "metadata": {},
   "outputs": [
    {
     "name": "stdout",
     "output_type": "stream",
     "text": [
      "0----1----3----7                                   \n",
      "|    |    \\----8----17                              \n",
      "|    |         \\----18----37----75                    \n",
      "|    |               |     \\----76----153               \n",
      "|    |               |           \\----154----309----619----1239\n",
      "|    |               |                  |      |      \\----1240\n",
      "|    |               |                  |      \\----620     \n",
      "|    |               |                  \\----310----621     \n",
      "|    |               |                         \\----622     \n",
      "|    |               \\----38----77----155                 \n",
      "|    |                     |     \\----156----313          \n",
      "|    |                     |            \\----314          \n",
      "|    |                     \\----78                      \n",
      "|    \\----4----9----19----39----79----159               \n",
      "|         |    |     |     |     \\----160----321          \n",
      "|         |    |     |     |            \\----322----645     \n",
      "|         |    |     |     |                   \\----646----1293\n",
      "|         |    |     |     |                          \\----1294\n",
      "|         |    |     |     \\----80                          \n",
      "|         |    |     \\----40                               \n",
      "|         |    \\----20----41----83----167                   \n",
      "|         |          |     |     \\----168                   \n",
      "|         |          |     \\----84                        \n",
      "|         |          \\----42                             \n",
      "|         \\----10----21----43----87                        \n",
      "|               |     |     \\----88                        \n",
      "|               |     \\----44----89----179                   \n",
      "|               |           |     \\----180                   \n",
      "|               |           \\----90                        \n",
      "|               \\----22----45----91----183                   \n",
      "|                     |     |     \\----184----369            \n",
      "|                     |     |            \\----370----741     \n",
      "|                     |     |                   \\----742----1485\n",
      "|                     |     |                          \\----1486\n",
      "|                     |     \\----92                          \n",
      "|                     \\----46----93                          \n",
      "|                           \\----94----189----379----759     \n",
      "|                                 |      |      \\----760     \n",
      "|                                 |      \\----380          \n",
      "|                                 \\----190----381          \n",
      "|                                        \\----382----765     \n",
      "|                                               \\----766----1533\n",
      "|                                                      \\----1534\n",
      "\\----2----5----11----23----47----95                          \n",
      "     |    |     |     |     \\----96----193----387            \n",
      "     |    |     |     |           |      \\----388----777     \n",
      "     |    |     |     |           |             \\----778     \n",
      "     |    |     |     |           \\----194                 \n",
      "     |    |     |     \\----48----97                      \n",
      "     |    |     |           \\----98----197                 \n",
      "     |    |     |                 \\----198----397----795     \n",
      "     |    |     |                        |      \\----796     \n",
      "     |    |     |                        \\----398          \n",
      "     |    |     \\----24----49----99----199               \n",
      "     |    |           |     |     \\----200----401----803     \n",
      "     |    |           |     |            |      \\----804----1609\n",
      "     |    |           |     |            |             \\----1610\n",
      "     |    |           |     |            \\----402----805     \n",
      "     |    |           |     |                   \\----806----1613\n",
      "     |    |           |     |                          \\----1614\n",
      "     |    |           |     \\----100                          \n",
      "     |    |           \\----50                               \n",
      "     |    \\----12----25                                    \n",
      "     |          \\----26----53----107----215                   \n",
      "     |                |     |      \\----216                   \n",
      "     |                |     \\----108                        \n",
      "     |                \\----54----109                        \n",
      "     |                      \\----110----221                   \n",
      "     |                             \\----222                   \n",
      "     \\----6----13----27----55                               \n",
      "          |     |     \\----56----113                        \n",
      "          |     |           \\----114                        \n",
      "          |     \\----28                                   \n",
      "          \\----14----29----59----119                        \n",
      "                |     |     \\----120----241                   \n",
      "                |     |            \\----242                   \n",
      "                |     \\----60                               \n",
      "                \\----30                                    \n"
     ]
    }
   ],
   "source": [
    "model.visualise(model.viz)"
   ]
  },
  {
   "cell_type": "code",
   "execution_count": 9,
   "metadata": {},
   "outputs": [
    {
     "data": {
      "text/plain": [
       "97.6"
      ]
     },
     "execution_count": 9,
     "metadata": {},
     "output_type": "execute_result"
    }
   ],
   "source": [
    "predictions=model.predict(x)\n",
    "accuracy_score(predictions,y)"
   ]
  },
  {
   "cell_type": "markdown",
   "metadata": {},
   "source": [
    "As you see, accuracy increased significantly. We will define the \"best\" criterion with model accuracy and cross validation in futher sections"
   ]
  },
  {
   "cell_type": "markdown",
   "metadata": {},
   "source": [
    "## **Model comparison**"
   ]
  },
  {
   "cell_type": "markdown",
   "metadata": {},
   "source": [
    "We can try fewer splits"
   ]
  },
  {
   "cell_type": "code",
   "execution_count": 12,
   "metadata": {},
   "outputs": [],
   "source": [
    "nb_global=5\n",
    "model=DecisionTreeClassifier(nb_paths=nb_global,print_mode=False,method=\"gini\")\n",
    "\n",
    "nodes=model.fit(x,y)\n"
   ]
  },
  {
   "cell_type": "code",
   "execution_count": 13,
   "metadata": {},
   "outputs": [
    {
     "name": "stdout",
     "output_type": "stream",
     "text": [
      "0----1----3               \n",
      "|    \\----4----9          \n",
      "|         \\----10----21----43\n",
      "|               |     \\----44\n",
      "|               \\----22----45\n",
      "|                     \\----46\n",
      "\\----2----5----11           \n",
      "     |    \\----12----25----51\n",
      "     |          |     \\----52\n",
      "     |          \\----26----53\n",
      "     |                \\----54\n",
      "     \\----6                 \n"
     ]
    }
   ],
   "source": [
    "model.visualise(model.viz)"
   ]
  },
  {
   "cell_type": "code",
   "execution_count": 14,
   "metadata": {},
   "outputs": [
    {
     "data": {
      "text/plain": [
       "77.2"
      ]
     },
     "execution_count": 14,
     "metadata": {},
     "output_type": "execute_result"
    }
   ],
   "source": [
    "predictions=model.predict(x)\n",
    "accuracy_score(predictions,y)"
   ]
  },
  {
   "cell_type": "markdown",
   "metadata": {},
   "source": [
    "The accuracy score decreased which is a normal behaviour (trade off between underfitting and overfitting ), so we will need to avoid this problem with CV on multiple \n",
    "hyperparameters and moreover we will develop soon other aggregating algorithms to face this issue + optimize CV"
   ]
  }
 ],
 "metadata": {
  "kernelspec": {
   "display_name": "my_env",
   "language": "python",
   "name": "python3"
  },
  "language_info": {
   "codemirror_mode": {
    "name": "ipython",
    "version": 3
   },
   "file_extension": ".py",
   "mimetype": "text/x-python",
   "name": "python",
   "nbconvert_exporter": "python",
   "pygments_lexer": "ipython3",
   "version": "3.11.4"
  }
 },
 "nbformat": 4,
 "nbformat_minor": 2
}
