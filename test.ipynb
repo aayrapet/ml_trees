{
 "cells": [
  {
   "cell_type": "code",
   "execution_count": 1,
   "metadata": {},
   "outputs": [],
   "source": [
    "import pandas as pd \n",
    "import numpy as np \n",
    "from _base import DecisionTreeClassifier\n",
    "\n",
    "\n",
    "def accuracy_score(predictions, targets):\n",
    "   \n",
    "    correct = 0\n",
    "    total = len(targets)\n",
    "\n",
    "    for pred, target in zip(predictions, targets):\n",
    "        if pred == target:\n",
    "            correct += 1\n",
    "\n",
    "    accuracy = (correct / total) * 100\n",
    "    return accuracy\n",
    "\n",
    "\n"
   ]
  },
  {
   "cell_type": "markdown",
   "metadata": {},
   "source": [
    "Data loading"
   ]
  },
  {
   "cell_type": "code",
   "execution_count": 2,
   "metadata": {},
   "outputs": [
    {
     "data": {
      "text/html": [
       "<div>\n",
       "<style scoped>\n",
       "    .dataframe tbody tr th:only-of-type {\n",
       "        vertical-align: middle;\n",
       "    }\n",
       "\n",
       "    .dataframe tbody tr th {\n",
       "        vertical-align: top;\n",
       "    }\n",
       "\n",
       "    .dataframe thead th {\n",
       "        text-align: right;\n",
       "    }\n",
       "</style>\n",
       "<table border=\"1\" class=\"dataframe\">\n",
       "  <thead>\n",
       "    <tr style=\"text-align: right;\">\n",
       "      <th></th>\n",
       "      <th>V1</th>\n",
       "      <th>V2</th>\n",
       "      <th>V3</th>\n",
       "      <th>V4</th>\n",
       "      <th>V5</th>\n",
       "      <th>y</th>\n",
       "    </tr>\n",
       "  </thead>\n",
       "  <tbody>\n",
       "    <tr>\n",
       "      <th>0</th>\n",
       "      <td>-0.6</td>\n",
       "      <td>-0.6</td>\n",
       "      <td>-1.0</td>\n",
       "      <td>-0.8</td>\n",
       "      <td>-0.5</td>\n",
       "      <td>0</td>\n",
       "    </tr>\n",
       "    <tr>\n",
       "      <th>1</th>\n",
       "      <td>-0.2</td>\n",
       "      <td>-1.0</td>\n",
       "      <td>-1.0</td>\n",
       "      <td>-0.3</td>\n",
       "      <td>0.2</td>\n",
       "      <td>0</td>\n",
       "    </tr>\n",
       "    <tr>\n",
       "      <th>2</th>\n",
       "      <td>1.6</td>\n",
       "      <td>1.0</td>\n",
       "      <td>-0.0</td>\n",
       "      <td>-0.9</td>\n",
       "      <td>-0.5</td>\n",
       "      <td>1</td>\n",
       "    </tr>\n",
       "    <tr>\n",
       "      <th>3</th>\n",
       "      <td>0.1</td>\n",
       "      <td>0.8</td>\n",
       "      <td>-0.1</td>\n",
       "      <td>0.6</td>\n",
       "      <td>1.2</td>\n",
       "      <td>0</td>\n",
       "    </tr>\n",
       "    <tr>\n",
       "      <th>4</th>\n",
       "      <td>0.1</td>\n",
       "      <td>-1.5</td>\n",
       "      <td>-2.5</td>\n",
       "      <td>1.1</td>\n",
       "      <td>0.2</td>\n",
       "      <td>0</td>\n",
       "    </tr>\n",
       "  </tbody>\n",
       "</table>\n",
       "</div>"
      ],
      "text/plain": [
       "    V1   V2   V3   V4   V5  y\n",
       "0 -0.6 -0.6 -1.0 -0.8 -0.5  0\n",
       "1 -0.2 -1.0 -1.0 -0.3  0.2  0\n",
       "2  1.6  1.0 -0.0 -0.9 -0.5  1\n",
       "3  0.1  0.8 -0.1  0.6  1.2  0\n",
       "4  0.1 -1.5 -2.5  1.1  0.2  0"
      ]
     },
     "execution_count": 2,
     "metadata": {},
     "output_type": "execute_result"
    }
   ],
   "source": [
    "table=pd.read_excel(\"C:/Users/arthu/Downloads/example_LR.xlsx\" )\n",
    "table=table.round(1)\n",
    "table\n",
    "x=table.drop('y',axis=1)\n",
    "y=table[\"y\"]\n",
    "table.head()"
   ]
  },
  {
   "cell_type": "code",
   "execution_count": 3,
   "metadata": {},
   "outputs": [],
   "source": [
    "x=np.array(table.drop(\"y\",axis=1))\n",
    "y=np.array(table[\"y\"])"
   ]
  },
  {
   "cell_type": "markdown",
   "metadata": {},
   "source": [
    "Model with 3 paths"
   ]
  },
  {
   "cell_type": "code",
   "execution_count": 4,
   "metadata": {},
   "outputs": [
    {
     "name": "stdout",
     "output_type": "stream",
     "text": [
      "pure node is  node_7\n",
      "pure node is  node_17\n",
      "pure node is  node_25\n",
      "pure node is  node_28\n",
      "pure node is  node_30\n",
      "leaf node is :  node_75\n",
      "leaf node is :  node_76\n",
      "leaf node is :  node_77\n",
      "leaf node is :  node_78\n",
      "leaf node is :  node_79\n",
      "leaf node is :  node_80\n",
      "pure node is  node_40\n",
      "leaf node is :  node_83\n",
      "leaf node is :  node_84\n",
      "pure node is  node_42\n",
      "leaf node is :  node_87\n",
      "leaf node is :  node_88\n",
      "leaf node is :  node_89\n",
      "leaf node is :  node_90\n",
      "leaf node is :  node_91\n",
      "leaf node is :  node_92\n",
      "leaf node is :  node_93\n",
      "leaf node is :  node_94\n",
      "leaf node is :  node_95\n",
      "leaf node is :  node_96\n",
      "leaf node is :  node_97\n",
      "leaf node is :  node_98\n",
      "leaf node is :  node_99\n",
      "leaf node is :  node_100\n",
      "pure node is  node_50\n",
      "leaf node is :  node_107\n",
      "leaf node is :  node_108\n",
      "leaf node is :  node_109\n",
      "leaf node is :  node_110\n",
      "pure node is  node_55\n",
      "leaf node is :  node_113\n",
      "leaf node is :  node_114\n",
      "leaf node is :  node_119\n",
      "leaf node is :  node_120\n",
      "pure node is  node_60\n"
     ]
    }
   ],
   "source": [
    "nb_global=6\n",
    "model=DecisionTreeClassifier(nb_paths=nb_global,print_mode=True,method=\"entropy\")\n",
    "\n",
    "nodes=model.fit(x,y)\n",
    "\n"
   ]
  },
  {
   "cell_type": "markdown",
   "metadata": {},
   "source": [
    "We can visualise the tree. Here I have to add conditions instead of indexes and add purity, i will try to do this by the end of the week if i have time"
   ]
  },
  {
   "cell_type": "code",
   "execution_count": 5,
   "metadata": {},
   "outputs": [
    {
     "name": "stdout",
     "output_type": "stream",
     "text": [
      "0----1----3----7----15----31----63\n",
      "|    |    |    |     |     \\----64\n",
      "|    |    |    |     \\----32----65\n",
      "|    |    |    |           \\----66\n",
      "|    |    |    \\----16----33----67\n",
      "|    |    |          |     \\----68\n",
      "|    |    |          \\----34----69\n",
      "|    |    |                \\----70\n",
      "|    |    \\----8----17----35----71\n",
      "|    |         |     |     \\----72\n",
      "|    |         |     \\----36----73\n",
      "|    |         |           \\----74\n",
      "|    |         \\----18----37----75\n",
      "|    |               |     \\----76\n",
      "|    |               \\----38----77\n",
      "|    |                     \\----78\n",
      "|    \\----4----9----19----39----79\n",
      "|         |    |     |     \\----80\n",
      "|         |    |     \\----40----81\n",
      "|         |    |           \\----82\n",
      "|         |    \\----20----41----83\n",
      "|         |          |     \\----84\n",
      "|         |          \\----42----85\n",
      "|         |                \\----86\n",
      "|         \\----10----21----43----87\n",
      "|               |     |     \\----88\n",
      "|               |     \\----44----89\n",
      "|               |           \\----90\n",
      "|               \\----22----45----91\n",
      "|                     |     \\----92\n",
      "|                     \\----46----93\n",
      "|                           \\----94\n",
      "\\----2----5----11----23----47----95\n",
      "     |    |     |     |     \\----96\n",
      "     |    |     |     \\----48----97\n",
      "     |    |     |           \\----98\n",
      "     |    |     \\----24----49----99\n",
      "     |    |           |     \\----100\n",
      "     |    |           \\----50----101\n",
      "     |    |                 \\----102\n",
      "     |    \\----12----25----51----103\n",
      "     |          |     |     \\----104\n",
      "     |          |     \\----52----105\n",
      "     |          |           \\----106\n",
      "     |          \\----26----53----107\n",
      "     |                |     \\----108\n",
      "     |                \\----54----109\n",
      "     |                      \\----110\n",
      "     \\----6----13----27----55----111\n",
      "          |     |     |     \\----112\n",
      "          |     |     \\----56----113\n",
      "          |     |           \\----114\n",
      "          |     \\----28----57----115\n",
      "          |           |     \\----116\n",
      "          |           \\----58----117\n",
      "          |                 \\----118\n",
      "          \\----14----29----59----119\n",
      "                |     |     \\----120\n",
      "                |     \\----60----121\n",
      "                |           \\----122\n",
      "                \\----30----61----123\n",
      "                      |     \\----124\n",
      "                      \\----62----125\n",
      "                            \\----126\n"
     ]
    }
   ],
   "source": [
    "model.visualise(model.viz)"
   ]
  },
  {
   "cell_type": "markdown",
   "metadata": {},
   "source": [
    "Make prediction and evaluate accuracy"
   ]
  },
  {
   "cell_type": "code",
   "execution_count": 6,
   "metadata": {},
   "outputs": [
    {
     "data": {
      "text/plain": [
       "89.4"
      ]
     },
     "execution_count": 6,
     "metadata": {},
     "output_type": "execute_result"
    }
   ],
   "source": [
    "predictions=model.predict(x)\n",
    "accuracy_score(predictions,y)"
   ]
  },
  {
   "cell_type": "markdown",
   "metadata": {},
   "source": [
    "Try another number of depth"
   ]
  },
  {
   "cell_type": "code",
   "execution_count": 7,
   "metadata": {},
   "outputs": [
    {
     "name": "stdout",
     "output_type": "stream",
     "text": [
      "leaf node is :  node_7\n",
      "leaf node is :  node_8\n",
      "leaf node is :  node_9\n",
      "leaf node is :  node_10\n",
      "leaf node is :  node_11\n",
      "leaf node is :  node_12\n",
      "leaf node is :  node_13\n",
      "leaf node is :  node_14\n"
     ]
    }
   ],
   "source": [
    "nb_global=3\n",
    "model=DecisionTreeClassifier(nb_paths=nb_global,print_mode=True,method=\"entropy\")\n",
    "\n",
    "nodes=model.fit(x,y)\n"
   ]
  },
  {
   "cell_type": "code",
   "execution_count": 8,
   "metadata": {},
   "outputs": [
    {
     "name": "stdout",
     "output_type": "stream",
     "text": [
      "0----1----3----7\n",
      "|    |    \\----8\n",
      "|    \\----4----9\n",
      "|         \\----10\n",
      "\\----2----5----11\n",
      "     |    \\----12\n",
      "     \\----6----13\n",
      "          \\----14\n"
     ]
    }
   ],
   "source": [
    "model.visualise(model.viz)"
   ]
  },
  {
   "cell_type": "code",
   "execution_count": 9,
   "metadata": {},
   "outputs": [
    {
     "data": {
      "text/plain": [
       "78.60000000000001"
      ]
     },
     "execution_count": 9,
     "metadata": {},
     "output_type": "execute_result"
    }
   ],
   "source": [
    "predictions=model.predict(x)\n",
    "accuracy_score(predictions,y)"
   ]
  },
  {
   "cell_type": "markdown",
   "metadata": {},
   "source": [
    "The accuracy score decreased which is a normal behaviour (trade off between underfitting and overfitting ), so we will need to avoid this problem with CV on multiple \n",
    "hyperparameters and moreover we will develop soon other aggregating algorithms to face this issue + optimize CV"
   ]
  }
 ],
 "metadata": {
  "kernelspec": {
   "display_name": "my_env",
   "language": "python",
   "name": "python3"
  },
  "language_info": {
   "codemirror_mode": {
    "name": "ipython",
    "version": 3
   },
   "file_extension": ".py",
   "mimetype": "text/x-python",
   "name": "python",
   "nbconvert_exporter": "python",
   "pygments_lexer": "ipython3",
   "version": "3.11.4"
  }
 },
 "nbformat": 4,
 "nbformat_minor": 2
}
